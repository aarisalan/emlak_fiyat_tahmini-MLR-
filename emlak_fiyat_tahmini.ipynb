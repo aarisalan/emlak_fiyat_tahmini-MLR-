{
 "cells": [
  {
   "cell_type": "markdown",
   "id": "02a3c235",
   "metadata": {},
   "source": [
    " Veri Seti: https://www.kaggle.com/datasets/denisadutca/bucharest-house-price-dataset"
   ]
  },
  {
   "cell_type": "markdown",
   "id": "82e83241",
   "metadata": {},
   "source": [
    "# Kütüphanelerin İçeri Aktarılması"
   ]
  },
  {
   "cell_type": "code",
   "execution_count": 1,
   "id": "55f96a93",
   "metadata": {},
   "outputs": [],
   "source": [
    "import pandas as pd\n",
    "import matplotlib.pyplot as plt\n",
    "from sklearn import linear_model"
   ]
  },
  {
   "cell_type": "markdown",
   "id": "6f48771f",
   "metadata": {},
   "source": [
    "# Veri Setinin İçeri Aktarılması"
   ]
  },
  {
   "cell_type": "code",
   "execution_count": 2,
   "id": "f2cc025c",
   "metadata": {},
   "outputs": [
    {
     "data": {
      "text/html": [
       "<div>\n",
       "<style scoped>\n",
       "    .dataframe tbody tr th:only-of-type {\n",
       "        vertical-align: middle;\n",
       "    }\n",
       "\n",
       "    .dataframe tbody tr th {\n",
       "        vertical-align: top;\n",
       "    }\n",
       "\n",
       "    .dataframe thead th {\n",
       "        text-align: right;\n",
       "    }\n",
       "</style>\n",
       "<table border=\"1\" class=\"dataframe\">\n",
       "  <thead>\n",
       "    <tr style=\"text-align: right;\">\n",
       "      <th></th>\n",
       "      <th>Nr Camere</th>\n",
       "      <th>Suprafata</th>\n",
       "      <th>Etaj</th>\n",
       "      <th>Total Etaje</th>\n",
       "      <th>Sector</th>\n",
       "      <th>Scor</th>\n",
       "      <th>Pret</th>\n",
       "    </tr>\n",
       "  </thead>\n",
       "  <tbody>\n",
       "    <tr>\n",
       "      <th>0</th>\n",
       "      <td>4</td>\n",
       "      <td>108.00</td>\n",
       "      <td>2</td>\n",
       "      <td>3</td>\n",
       "      <td>4</td>\n",
       "      <td>5</td>\n",
       "      <td>83000</td>\n",
       "    </tr>\n",
       "    <tr>\n",
       "      <th>1</th>\n",
       "      <td>1</td>\n",
       "      <td>41.00</td>\n",
       "      <td>1</td>\n",
       "      <td>8</td>\n",
       "      <td>1</td>\n",
       "      <td>1</td>\n",
       "      <td>39900</td>\n",
       "    </tr>\n",
       "    <tr>\n",
       "      <th>2</th>\n",
       "      <td>3</td>\n",
       "      <td>63.52</td>\n",
       "      <td>1</td>\n",
       "      <td>3</td>\n",
       "      <td>2</td>\n",
       "      <td>3</td>\n",
       "      <td>84900</td>\n",
       "    </tr>\n",
       "    <tr>\n",
       "      <th>3</th>\n",
       "      <td>1</td>\n",
       "      <td>33.00</td>\n",
       "      <td>3</td>\n",
       "      <td>10</td>\n",
       "      <td>5</td>\n",
       "      <td>1</td>\n",
       "      <td>45500</td>\n",
       "    </tr>\n",
       "    <tr>\n",
       "      <th>4</th>\n",
       "      <td>2</td>\n",
       "      <td>62.00</td>\n",
       "      <td>5</td>\n",
       "      <td>9</td>\n",
       "      <td>5</td>\n",
       "      <td>5</td>\n",
       "      <td>54900</td>\n",
       "    </tr>\n",
       "    <tr>\n",
       "      <th>5</th>\n",
       "      <td>3</td>\n",
       "      <td>132.00</td>\n",
       "      <td>2</td>\n",
       "      <td>6</td>\n",
       "      <td>1</td>\n",
       "      <td>2</td>\n",
       "      <td>349990</td>\n",
       "    </tr>\n",
       "    <tr>\n",
       "      <th>6</th>\n",
       "      <td>2</td>\n",
       "      <td>49.00</td>\n",
       "      <td>6</td>\n",
       "      <td>6</td>\n",
       "      <td>6</td>\n",
       "      <td>4</td>\n",
       "      <td>36500</td>\n",
       "    </tr>\n",
       "    <tr>\n",
       "      <th>7</th>\n",
       "      <td>3</td>\n",
       "      <td>92.00</td>\n",
       "      <td>4</td>\n",
       "      <td>8</td>\n",
       "      <td>2</td>\n",
       "      <td>2</td>\n",
       "      <td>119000</td>\n",
       "    </tr>\n",
       "    <tr>\n",
       "      <th>8</th>\n",
       "      <td>3</td>\n",
       "      <td>68.00</td>\n",
       "      <td>3</td>\n",
       "      <td>5</td>\n",
       "      <td>4</td>\n",
       "      <td>5</td>\n",
       "      <td>67500</td>\n",
       "    </tr>\n",
       "    <tr>\n",
       "      <th>9</th>\n",
       "      <td>3</td>\n",
       "      <td>110.00</td>\n",
       "      <td>1</td>\n",
       "      <td>2</td>\n",
       "      <td>1</td>\n",
       "      <td>1</td>\n",
       "      <td>133000</td>\n",
       "    </tr>\n",
       "  </tbody>\n",
       "</table>\n",
       "</div>"
      ],
      "text/plain": [
       "   Nr Camere  Suprafata  Etaj  Total Etaje  Sector  Scor    Pret\n",
       "0          4     108.00     2            3       4     5   83000\n",
       "1          1      41.00     1            8       1     1   39900\n",
       "2          3      63.52     1            3       2     3   84900\n",
       "3          1      33.00     3           10       5     1   45500\n",
       "4          2      62.00     5            9       5     5   54900\n",
       "5          3     132.00     2            6       1     2  349990\n",
       "6          2      49.00     6            6       6     4   36500\n",
       "7          3      92.00     4            8       2     2  119000\n",
       "8          3      68.00     3            5       4     5   67500\n",
       "9          3     110.00     1            2       1     1  133000"
      ]
     },
     "execution_count": 2,
     "metadata": {},
     "output_type": "execute_result"
    }
   ],
   "source": [
    "df = pd.read_csv(\"Bucharest_HousePriceDataset.csv\")\n",
    "df.head(10)"
   ]
  },
  {
   "cell_type": "markdown",
   "id": "fd4afb51",
   "metadata": {},
   "source": [
    "# Veri Setinin Anlamlı Hale Getirilmesi"
   ]
  },
  {
   "cell_type": "code",
   "execution_count": 7,
   "id": "727e7132",
   "metadata": {},
   "outputs": [
    {
     "data": {
      "text/html": [
       "<div>\n",
       "<style scoped>\n",
       "    .dataframe tbody tr th:only-of-type {\n",
       "        vertical-align: middle;\n",
       "    }\n",
       "\n",
       "    .dataframe tbody tr th {\n",
       "        vertical-align: top;\n",
       "    }\n",
       "\n",
       "    .dataframe thead th {\n",
       "        text-align: right;\n",
       "    }\n",
       "</style>\n",
       "<table border=\"1\" class=\"dataframe\">\n",
       "  <thead>\n",
       "    <tr style=\"text-align: right;\">\n",
       "      <th></th>\n",
       "      <th>Rooms</th>\n",
       "      <th>Surface</th>\n",
       "      <th>Floor</th>\n",
       "      <th>NumberOfFloors</th>\n",
       "      <th>AreaLocation</th>\n",
       "      <th>Rank</th>\n",
       "      <th>Price</th>\n",
       "    </tr>\n",
       "  </thead>\n",
       "  <tbody>\n",
       "    <tr>\n",
       "      <th>3524</th>\n",
       "      <td>3</td>\n",
       "      <td>102.0</td>\n",
       "      <td>2</td>\n",
       "      <td>5</td>\n",
       "      <td>1</td>\n",
       "      <td>1</td>\n",
       "      <td>189000</td>\n",
       "    </tr>\n",
       "    <tr>\n",
       "      <th>3525</th>\n",
       "      <td>4</td>\n",
       "      <td>96.0</td>\n",
       "      <td>1</td>\n",
       "      <td>3</td>\n",
       "      <td>3</td>\n",
       "      <td>2</td>\n",
       "      <td>200000</td>\n",
       "    </tr>\n",
       "    <tr>\n",
       "      <th>3526</th>\n",
       "      <td>1</td>\n",
       "      <td>35.0</td>\n",
       "      <td>1</td>\n",
       "      <td>3</td>\n",
       "      <td>4</td>\n",
       "      <td>5</td>\n",
       "      <td>47000</td>\n",
       "    </tr>\n",
       "    <tr>\n",
       "      <th>3527</th>\n",
       "      <td>2</td>\n",
       "      <td>60.0</td>\n",
       "      <td>6</td>\n",
       "      <td>7</td>\n",
       "      <td>1</td>\n",
       "      <td>2</td>\n",
       "      <td>89500</td>\n",
       "    </tr>\n",
       "    <tr>\n",
       "      <th>3528</th>\n",
       "      <td>3</td>\n",
       "      <td>80.0</td>\n",
       "      <td>3</td>\n",
       "      <td>5</td>\n",
       "      <td>1</td>\n",
       "      <td>2</td>\n",
       "      <td>139000</td>\n",
       "    </tr>\n",
       "  </tbody>\n",
       "</table>\n",
       "</div>"
      ],
      "text/plain": [
       "      Rooms  Surface  Floor  NumberOfFloors  AreaLocation  Rank   Price\n",
       "3524      3    102.0      2               5             1     1  189000\n",
       "3525      4     96.0      1               3             3     2  200000\n",
       "3526      1     35.0      1               3             4     5   47000\n",
       "3527      2     60.0      6               7             1     2   89500\n",
       "3528      3     80.0      3               5             1     2  139000"
      ]
     },
     "execution_count": 7,
     "metadata": {},
     "output_type": "execute_result"
    }
   ],
   "source": [
    "df.rename(columns={'Nr Camere':'Rooms', 'Suprafata':'Surface', 'Etaj':'Floor',\n",
    "                   'Total Etaje': 'NumberOfFloors', 'Sector':'AreaLocation',\n",
    "                   'Scor':'Rank', 'Pret':'Price'}, inplace = True)\n",
    "df.tail()"
   ]
  },
  {
   "cell_type": "markdown",
   "id": "e822c1a4",
   "metadata": {},
   "source": [
    "# Parametrelerin ve Fiyatların Farklı Veri Setlerine Ayrılması"
   ]
  },
  {
   "cell_type": "code",
   "execution_count": 14,
   "id": "a0e7d43b",
   "metadata": {},
   "outputs": [],
   "source": [
    "parametreler = df[[\"Rooms\",\"Surface\",\"Floor\",\"NumberOfFloors\",\"AreaLocation\",\"Rank\",]]\n",
    "fiyat = df[\"Price\"]"
   ]
  },
  {
   "cell_type": "code",
   "execution_count": 15,
   "id": "4177399a",
   "metadata": {
    "collapsed": true
   },
   "outputs": [
    {
     "data": {
      "text/html": [
       "<div>\n",
       "<style scoped>\n",
       "    .dataframe tbody tr th:only-of-type {\n",
       "        vertical-align: middle;\n",
       "    }\n",
       "\n",
       "    .dataframe tbody tr th {\n",
       "        vertical-align: top;\n",
       "    }\n",
       "\n",
       "    .dataframe thead th {\n",
       "        text-align: right;\n",
       "    }\n",
       "</style>\n",
       "<table border=\"1\" class=\"dataframe\">\n",
       "  <thead>\n",
       "    <tr style=\"text-align: right;\">\n",
       "      <th></th>\n",
       "      <th>Rooms</th>\n",
       "      <th>Surface</th>\n",
       "      <th>Floor</th>\n",
       "      <th>NumberOfFloors</th>\n",
       "      <th>AreaLocation</th>\n",
       "      <th>Rank</th>\n",
       "    </tr>\n",
       "  </thead>\n",
       "  <tbody>\n",
       "    <tr>\n",
       "      <th>0</th>\n",
       "      <td>4</td>\n",
       "      <td>108.00</td>\n",
       "      <td>2</td>\n",
       "      <td>3</td>\n",
       "      <td>4</td>\n",
       "      <td>5</td>\n",
       "    </tr>\n",
       "    <tr>\n",
       "      <th>1</th>\n",
       "      <td>1</td>\n",
       "      <td>41.00</td>\n",
       "      <td>1</td>\n",
       "      <td>8</td>\n",
       "      <td>1</td>\n",
       "      <td>1</td>\n",
       "    </tr>\n",
       "    <tr>\n",
       "      <th>2</th>\n",
       "      <td>3</td>\n",
       "      <td>63.52</td>\n",
       "      <td>1</td>\n",
       "      <td>3</td>\n",
       "      <td>2</td>\n",
       "      <td>3</td>\n",
       "    </tr>\n",
       "    <tr>\n",
       "      <th>3</th>\n",
       "      <td>1</td>\n",
       "      <td>33.00</td>\n",
       "      <td>3</td>\n",
       "      <td>10</td>\n",
       "      <td>5</td>\n",
       "      <td>1</td>\n",
       "    </tr>\n",
       "    <tr>\n",
       "      <th>4</th>\n",
       "      <td>2</td>\n",
       "      <td>62.00</td>\n",
       "      <td>5</td>\n",
       "      <td>9</td>\n",
       "      <td>5</td>\n",
       "      <td>5</td>\n",
       "    </tr>\n",
       "  </tbody>\n",
       "</table>\n",
       "</div>"
      ],
      "text/plain": [
       "   Rooms  Surface  Floor  NumberOfFloors  AreaLocation  Rank\n",
       "0      4   108.00      2               3             4     5\n",
       "1      1    41.00      1               8             1     1\n",
       "2      3    63.52      1               3             2     3\n",
       "3      1    33.00      3              10             5     1\n",
       "4      2    62.00      5               9             5     5"
      ]
     },
     "execution_count": 15,
     "metadata": {},
     "output_type": "execute_result"
    }
   ],
   "source": [
    "parametreler.head()"
   ]
  },
  {
   "cell_type": "code",
   "execution_count": 17,
   "id": "40df87e5",
   "metadata": {
    "collapsed": true
   },
   "outputs": [
    {
     "data": {
      "text/plain": [
       "0    83000\n",
       "1    39900\n",
       "2    84900\n",
       "3    45500\n",
       "4    54900\n",
       "Name: Price, dtype: int64"
      ]
     },
     "execution_count": 17,
     "metadata": {},
     "output_type": "execute_result"
    }
   ],
   "source": [
    "fiyat.head()"
   ]
  },
  {
   "cell_type": "markdown",
   "id": "7ac2e40b",
   "metadata": {},
   "source": [
    "# Linear Regression Modelinin Uygulanması"
   ]
  },
  {
   "cell_type": "code",
   "execution_count": 21,
   "id": "5cf30b7f",
   "metadata": {},
   "outputs": [
    {
     "data": {
      "text/plain": [
       "LinearRegression()"
      ]
     },
     "execution_count": 21,
     "metadata": {},
     "output_type": "execute_result"
    }
   ],
   "source": [
    "#reg.fit işleminde .values olarak almamın sebebi, aksi halde modelin Sütun verilerini de ele alması.\n",
    "reg = linear_model.LinearRegression()\n",
    "reg.fit(parametreler.values, fiyat)"
   ]
  },
  {
   "cell_type": "markdown",
   "id": "73070388",
   "metadata": {},
   "source": [
    "# Modelin Denenmesi"
   ]
  },
  {
   "cell_type": "code",
   "execution_count": 28,
   "id": "1c6da7a7",
   "metadata": {},
   "outputs": [
    {
     "data": {
      "text/plain": [
       "array([ 66316.96353369, 100997.59893819, 125522.3006186 ])"
      ]
     },
     "execution_count": 28,
     "metadata": {},
     "output_type": "execute_result"
    }
   ],
   "source": [
    "#Oda, Alan, Kat, Bina Katı, Konutun Alan Konumu, Konum Puanı girilerek tahminler yapılabilir.\n",
    "reg.predict([[3,68,3,5,4,5],[2,60,6,7,1,2],[4,108,2,3,4,5]])"
   ]
  },
  {
   "cell_type": "markdown",
   "id": "46b9cbb7",
   "metadata": {},
   "source": [
    "# Modelin İncelenmesi "
   ]
  },
  {
   "cell_type": "code",
   "execution_count": 31,
   "id": "4342fb38",
   "metadata": {},
   "outputs": [
    {
     "data": {
      "text/plain": [
       "array([ -1827.35595899,   1579.80857123,   -725.38286958,   1442.51633741,\n",
       "        -3219.74783714, -11707.87347928])"
      ]
     },
     "execution_count": 31,
     "metadata": {},
     "output_type": "execute_result"
    }
   ],
   "source": [
    "#Katsayıların Gösterilmesi\n",
    "reg.coef_"
   ]
  },
  {
   "cell_type": "code",
   "execution_count": 32,
   "id": "712bff32",
   "metadata": {},
   "outputs": [
    {
     "data": {
      "text/plain": [
       "30753.97423374992"
      ]
     },
     "execution_count": 32,
     "metadata": {},
     "output_type": "execute_result"
    }
   ],
   "source": [
    "#Denklem sabitinin gösterilmesi\n",
    "reg.intercept_"
   ]
  },
  {
   "cell_type": "code",
   "execution_count": null,
   "id": "21f49da9",
   "metadata": {},
   "outputs": [],
   "source": []
  }
 ],
 "metadata": {
  "kernelspec": {
   "display_name": "Python 3 (ipykernel)",
   "language": "python",
   "name": "python3"
  },
  "language_info": {
   "codemirror_mode": {
    "name": "ipython",
    "version": 3
   },
   "file_extension": ".py",
   "mimetype": "text/x-python",
   "name": "python",
   "nbconvert_exporter": "python",
   "pygments_lexer": "ipython3",
   "version": "3.9.13"
  }
 },
 "nbformat": 4,
 "nbformat_minor": 5
}
